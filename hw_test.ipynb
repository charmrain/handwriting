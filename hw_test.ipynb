{
 "cells": [
  {
   "cell_type": "markdown",
   "metadata": {},
   "source": [
    "* The handwriting test"
   ]
  },
  {
   "cell_type": "code",
   "execution_count": 1,
   "metadata": {},
   "outputs": [],
   "source": [
    "from PIL import Image\n",
    "import pytesseract\n",
    "\n",
    "\n"
   ]
  },
  {
   "cell_type": "code",
   "execution_count": 10,
   "metadata": {},
   "outputs": [
    {
     "name": "stdout",
     "output_type": "stream",
     "text": [
      "OCR complete. The recognized text has been saved to /Users/anrui/Desktop/projects/15 Handwritings/handwriting/output/recognized_text.txt\n"
     ]
    }
   ],
   "source": [
    "# Path to the Tesseract executable\n",
    "pytesseract.pytesseract.tesseract_cmd = '/opt/homebrew/bin/tesseract'\n",
    "\n",
    "# Path to the image file\n",
    "image_path = '/Users/anrui/Desktop/projects/15 Handwritings/handwritings_sample/notes-high-school.webp'\n",
    "\n",
    "# Load the image from disk\n",
    "image = Image.open(image_path)\n",
    "\n",
    "# Perform OCR on the image\n",
    "recognized_text = pytesseract.image_to_string(image, lang='eng')\n",
    "\n",
    "# Output the recognized text to a file\n",
    "output_path = '/Users/anrui/Desktop/projects/15 Handwritings/handwriting/output/recognized_text.txt'\n",
    "with open(output_path, 'w') as text_file:\n",
    "    text_file.write(recognized_text)\n",
    "\n",
    "print(\"OCR complete. The recognized text has been saved to\", output_path)"
   ]
  },
  {
   "cell_type": "code",
   "execution_count": 8,
   "metadata": {},
   "outputs": [
    {
     "data": {
      "text/plain": [
       "\"@\\n\\nATOMIC STRUCTURE\\nGkomic Number: 4 OF Protons wittin © Learn\\nON aton's NuceUS. we atom's |.D.\\n\\nMass number : Mass OF an Atom. fed\\nSom OF PT ANA VY? (ONIt: AMV) ©\\n\\nINOT tre sameas Atomic Mass\\n\\nNeutral ws. Cnayged ardms:\\nNeutral atovsnave an overall zero Charge because Protons (P+) MA\\n\\nelectrons Ce-) Are CAva\\\\.\\nNeutral atoms can Only become Charged iF trey Iain oF lose Electrons.\\nCMaraed atoms are called ions. —————\\nCations —> (+) cnalae }0ss oF e- mnaiss werner\\nanions > (7) Cnarge —- Qaiin oF\\nJSOTOPE NOTATIONS\\n» hyphen notation (most common)\\n2) Nuuear notation (4 nuclear nem.)\\nAtoic MASS: WegnteA duEerare MASS CAIAKING Weg ItA AVErAgeNMIASS\\nfor an ehevvent \\\\oased ov iso topes(All) 1. MUWAPIN Can (GorDHe'S MASS\\n~ need mass number anol Natural by iS Natural Aloundance (decimal)\\nAbaante oF Can WsotDPe Foun) 40 IEEE WAOMEA MASS\\n~ wit: AMO AAV COLA (SOTDRE\\nL weignied be Notaneaval amour 2. dd ue the weighted masses to\\n| OF cavh Isotove in A sample. ek the aH Mas (04. Ass )\\n\\nSo topes:\\nW Ain\\nnwacorcynveott\\nmass} —> 12\\nQromic#—> ©\\n\\nHuehen notation: Carson - It\\n\\n\""
      ]
     },
     "execution_count": 8,
     "metadata": {},
     "output_type": "execute_result"
    }
   ],
   "source": [
    "recognized_text"
   ]
  },
  {
   "cell_type": "code",
   "execution_count": 15,
   "metadata": {},
   "outputs": [],
   "source": [
    "# Path to the image file\n",
    "image_path = '/Users/anrui/Desktop/projects/15 Handwritings/handwritings_sample/reporting.jpeg'\n",
    "\n",
    "# Load the image from disk\n",
    "image = Image.open(image_path)\n",
    "\n",
    "# Perform OCR on the image\n",
    "recognized_text_cn1 = pytesseract.image_to_string(image, lang='chi_sim')\n",
    "\n",
    "# Output the recognized text to a file\n",
    "output_path = '/Users/anrui/Desktop/projects/15 Handwritings/handwriting/output/recognized_text2.txt'\n",
    "with open(output_path, 'w') as text_file:\n",
    "    text_file.write(recognized_text_cn1)\n"
   ]
  },
  {
   "cell_type": "code",
   "execution_count": 16,
   "metadata": {},
   "outputs": [
    {
     "data": {
      "text/plain": [
       "'区，\\n\\n人人生  这>中\\n\\n村   14=-OF26T\\n\\n'"
      ]
     },
     "execution_count": 16,
     "metadata": {},
     "output_type": "execute_result"
    }
   ],
   "source": [
    "recognized_text_cn1"
   ]
  },
  {
   "cell_type": "code",
   "execution_count": 20,
   "metadata": {},
   "outputs": [
    {
     "name": "stdout",
     "output_type": "stream",
     "text": [
      "['eng', 'osd', 'snum']\n"
     ]
    }
   ],
   "source": [
    "print(pytesseract.get_languages(config=''))"
   ]
  },
  {
   "cell_type": "code",
   "execution_count": 22,
   "metadata": {},
   "outputs": [
    {
     "name": "stdout",
     "output_type": "stream",
     "text": [
      "['eng', 'osd', 'snum']\n"
     ]
    }
   ],
   "source": [
    "pytesseract.pytesseract.tesseract_cmd = '/opt/homebrew/bin/tesseract'\n",
    "print(pytesseract.get_languages(config=''))"
   ]
  }
 ],
 "metadata": {
  "kernelspec": {
   "display_name": "Python 3.10.4 64-bit",
   "language": "python",
   "name": "python3"
  },
  "language_info": {
   "codemirror_mode": {
    "name": "ipython",
    "version": 3
   },
   "file_extension": ".py",
   "mimetype": "text/x-python",
   "name": "python",
   "nbconvert_exporter": "python",
   "pygments_lexer": "ipython3",
   "version": "3.10.4"
  },
  "orig_nbformat": 4,
  "vscode": {
   "interpreter": {
    "hash": "aee8b7b246df8f9039afb4144a1f6fd8d2ca17a180786b69acc140d282b71a49"
   }
  }
 },
 "nbformat": 4,
 "nbformat_minor": 2
}
